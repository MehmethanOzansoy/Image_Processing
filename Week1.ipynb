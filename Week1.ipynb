{
 "cells": [
  {
   "cell_type": "code",
   "execution_count": 1,
   "id": "56749f39",
   "metadata": {},
   "outputs": [],
   "source": [
    "import numpy as np"
   ]
  },
  {
   "cell_type": "code",
   "execution_count": 3,
   "id": "e9e90658",
   "metadata": {},
   "outputs": [],
   "source": [
    "array = np.arange(0,15)"
   ]
  },
  {
   "cell_type": "code",
   "execution_count": 4,
   "id": "d7136bdb",
   "metadata": {},
   "outputs": [
    {
     "name": "stdout",
     "output_type": "stream",
     "text": [
      "[ 0  1  2  3  4  5  6  7  8  9 10 11 12 13 14]\n"
     ]
    }
   ],
   "source": [
    "print(array)"
   ]
  },
  {
   "cell_type": "code",
   "execution_count": 5,
   "id": "e0acf036",
   "metadata": {},
   "outputs": [],
   "source": [
    "array=np.ones((1,5))"
   ]
  },
  {
   "cell_type": "code",
   "execution_count": 6,
   "id": "113f6134",
   "metadata": {},
   "outputs": [
    {
     "name": "stdout",
     "output_type": "stream",
     "text": [
      "[[1. 1. 1. 1. 1.]]\n"
     ]
    }
   ],
   "source": [
    "print(array)"
   ]
  },
  {
   "cell_type": "code",
   "execution_count": 8,
   "id": "eef17251",
   "metadata": {},
   "outputs": [
    {
     "name": "stdout",
     "output_type": "stream",
     "text": [
      "z büyük y \n"
     ]
    }
   ],
   "source": [
    "y=5\n",
    "z=15\n",
    "if y>z:\n",
    "    print(\"y büyük z\")\n",
    "else:\n",
    "    print(\"z büyük y \")"
   ]
  },
  {
   "cell_type": "code",
   "execution_count": 10,
   "id": "d0315087",
   "metadata": {},
   "outputs": [
    {
     "name": "stdout",
     "output_type": "stream",
     "text": [
      "x'i gir: 15\n",
      "q'yu gir: 65\n",
      "1565\n"
     ]
    }
   ],
   "source": [
    "x= input(\"x'i gir: \")\n",
    "q= input(\"q'yu gir: \")\n",
    "\n",
    "sonuc=x+q\n",
    "\n",
    "print(sonuc)"
   ]
  },
  {
   "cell_type": "code",
   "execution_count": 11,
   "id": "96238fa8",
   "metadata": {},
   "outputs": [],
   "source": [
    "benimListem=np.linspace(0,15,30)"
   ]
  },
  {
   "cell_type": "code",
   "execution_count": 12,
   "id": "ed5101d1",
   "metadata": {},
   "outputs": [
    {
     "data": {
      "text/plain": [
       "array([ 0.        ,  0.51724138,  1.03448276,  1.55172414,  2.06896552,\n",
       "        2.5862069 ,  3.10344828,  3.62068966,  4.13793103,  4.65517241,\n",
       "        5.17241379,  5.68965517,  6.20689655,  6.72413793,  7.24137931,\n",
       "        7.75862069,  8.27586207,  8.79310345,  9.31034483,  9.82758621,\n",
       "       10.34482759, 10.86206897, 11.37931034, 11.89655172, 12.4137931 ,\n",
       "       12.93103448, 13.44827586, 13.96551724, 14.48275862, 15.        ])"
      ]
     },
     "execution_count": 12,
     "metadata": {},
     "output_type": "execute_result"
    }
   ],
   "source": [
    "benimListem"
   ]
  },
  {
   "cell_type": "code",
   "execution_count": 13,
   "id": "a68b2fea",
   "metadata": {},
   "outputs": [],
   "source": [
    "def toplama(num1,num2):\n",
    "    sum=num1+num2\n",
    "    print(sum)"
   ]
  },
  {
   "cell_type": "code",
   "execution_count": 14,
   "id": "97f77b69",
   "metadata": {},
   "outputs": [
    {
     "name": "stdout",
     "output_type": "stream",
     "text": [
      "35\n"
     ]
    }
   ],
   "source": [
    "toplama(10,25)"
   ]
  },
  {
   "cell_type": "code",
   "execution_count": 15,
   "id": "420dafc0",
   "metadata": {},
   "outputs": [],
   "source": [
    "def keyWordKontrolu(**kwargs):\n",
    "    if \"mehmet\" in kwargs:\n",
    "        print(\"mehmet var\")\n",
    "    else:\n",
    "        print(\"mehmet yok\")"
   ]
  },
  {
   "cell_type": "code",
   "execution_count": 16,
   "id": "e893b860",
   "metadata": {},
   "outputs": [
    {
     "name": "stdout",
     "output_type": "stream",
     "text": [
      "mehmet var\n"
     ]
    }
   ],
   "source": [
    "keyWordKontrolu(ahmet = 70, zeynep = 50, mehmet = 40)"
   ]
  },
  {
   "cell_type": "code",
   "execution_count": null,
   "id": "33a102c0",
   "metadata": {},
   "outputs": [],
   "source": []
  }
 ],
 "metadata": {
  "kernelspec": {
   "display_name": "Python 3 (ipykernel)",
   "language": "python",
   "name": "python3"
  },
  "language_info": {
   "codemirror_mode": {
    "name": "ipython",
    "version": 3
   },
   "file_extension": ".py",
   "mimetype": "text/x-python",
   "name": "python",
   "nbconvert_exporter": "python",
   "pygments_lexer": "ipython3",
   "version": "3.9.7"
  }
 },
 "nbformat": 4,
 "nbformat_minor": 5
}
