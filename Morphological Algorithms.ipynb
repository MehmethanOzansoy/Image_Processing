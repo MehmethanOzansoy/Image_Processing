{
 "cells": [
  {
   "cell_type": "code",
   "execution_count": 1,
   "id": "81aac715",
   "metadata": {},
   "outputs": [],
   "source": [
    "import cv2\n",
    "import numpy as np\n",
    "import matplotlib.pyplot as plt"
   ]
  },
  {
   "cell_type": "code",
   "execution_count": 2,
   "id": "df6fadb9",
   "metadata": {},
   "outputs": [],
   "source": [
    "img = cv2.imread('images.png',0)"
   ]
  },
  {
   "cell_type": "code",
   "execution_count": 3,
   "id": "a43ed5b1",
   "metadata": {},
   "outputs": [],
   "source": [
    "kernel = np.ones((5,5),np.uint8)"
   ]
  },
  {
   "cell_type": "code",
   "execution_count": 5,
   "id": "b93aa030",
   "metadata": {},
   "outputs": [],
   "source": [
    "img_erosion = cv2.erode(img,kernel,iterations=1)\n",
    "img_dilation = cv2.dilate(img,kernel,iterations=1)"
   ]
  },
  {
   "cell_type": "code",
   "execution_count": 8,
   "id": "560d5934",
   "metadata": {},
   "outputs": [
    {
     "data": {
      "text/plain": [
       "-1"
      ]
     },
     "execution_count": 8,
     "metadata": {},
     "output_type": "execute_result"
    }
   ],
   "source": [
    "cv2.imshow('input',img)\n",
    "cv2.imshow('input',img_erosion)\n",
    "cv2.imshow('input',img_dilation)\n",
    "\n",
    "cv2.waitKey(0)"
   ]
  },
  {
   "cell_type": "code",
   "execution_count": null,
   "id": "b1401d1f",
   "metadata": {},
   "outputs": [],
   "source": []
  }
 ],
 "metadata": {
  "kernelspec": {
   "display_name": "Python 3 (ipykernel)",
   "language": "python",
   "name": "python3"
  },
  "language_info": {
   "codemirror_mode": {
    "name": "ipython",
    "version": 3
   },
   "file_extension": ".py",
   "mimetype": "text/x-python",
   "name": "python",
   "nbconvert_exporter": "python",
   "pygments_lexer": "ipython3",
   "version": "3.9.7"
  }
 },
 "nbformat": 4,
 "nbformat_minor": 5
}
